{
 "cells": [
  {
   "cell_type": "markdown",
   "metadata": {},
   "source": [
    "# String Task-1"
   ]
  },
  {
   "cell_type": "code",
   "execution_count": 3,
   "metadata": {},
   "outputs": [
    {
     "name": "stdout",
     "output_type": "stream",
     "text": [
      "enter a word: BaNaNa\n",
      "banana\n"
     ]
    }
   ],
   "source": [
    "upper_letters= 0\n",
    "lower_letters= 0\n",
    "\n",
    "word=input('enter a word: ')\n",
    "for index in word:\n",
    "    \n",
    "    if ord(index) >=65 and ord(index)<=90:\n",
    "        lower_letters+=1\n",
    "        \n",
    "    else: \n",
    "        upper_letters+=1\n",
    "    \n",
    "if lower_letters>upper_letters:\n",
    "    print(word.upper())\n",
    "    \n",
    "else:\n",
    "    print(word.lower())"
   ]
  },
  {
   "cell_type": "markdown",
   "metadata": {},
   "source": [
    "# Task-2"
   ]
  },
  {
   "cell_type": "code",
   "execution_count": 4,
   "metadata": {},
   "outputs": [
    {
     "name": "stdout",
     "output_type": "stream",
     "text": [
      "enter digits or letters or both: jhg231j213\n",
      "MIXED\n"
     ]
    }
   ],
   "source": [
    "numeric_values = 0\n",
    "letters = 0\n",
    "string = input('enter digits or letters or both: ')\n",
    "\n",
    "for char in string:\n",
    "    \n",
    "    if ord(char)>=48 and ord(char) <=57:\n",
    "        numeric_values+=1\n",
    "        \n",
    "    elif ord(char)>=65 and ord(char)<=90 or ord(char)>=97 and ord(char)<=122:\n",
    "        letters+=1\n",
    "        \n",
    "if letters  ==0 and numeric_values!=0:\n",
    "    print('NUMBER')\n",
    "    \n",
    "if letters!=0 and numeric_values !=0:\n",
    "    print('MIXED')\n",
    "    \n",
    "if letters!=0 and numeric_values ==0:\n",
    "    print('WORD')"
   ]
  },
  {
   "cell_type": "markdown",
   "metadata": {},
   "source": [
    "# Task-3"
   ]
  },
  {
   "cell_type": "code",
   "execution_count": 5,
   "metadata": {},
   "outputs": [
    {
     "name": "stdout",
     "output_type": "stream",
     "text": [
      "enter a string: baNgladEsh\n",
      "glad\n"
     ]
    }
   ],
   "source": [
    "string=input('enter a string: ')\n",
    "sub_str=''\n",
    "count=len(string)\n",
    "for temp in range(0,count):\n",
    "    if string[temp].isupper():\n",
    "        for char in range(temp+1,count):\n",
    "            if string[char].isupper():\n",
    "                sub_string=string[temp+1:char]\n",
    "if sub_string=='':\n",
    "    print('BLANK')\n",
    "else:\n",
    "    print(sub_string)"
   ]
  },
  {
   "cell_type": "markdown",
   "metadata": {},
   "source": [
    "# Task-4"
   ]
  },
  {
   "cell_type": "code",
   "execution_count": 6,
   "metadata": {},
   "outputs": [
    {
     "name": "stdout",
     "output_type": "stream",
     "text": [
      "The book is not too good!\n",
      "The book is not excellent!   "
     ]
    }
   ],
   "source": [
    "sub_string=list(map(str,input().split()))\n",
    "\n",
    "for index in range(len(sub_string)-1):\n",
    "    \n",
    "    if sub_string[index]==\"too\" and sub_string[index+1]==\"good!\":\n",
    "        \n",
    "        sub_string[index]=\"excellent!\"\n",
    "        sub_string[index + 1]=\" \"\n",
    "\n",
    "for index in range(len(sub_string)):\n",
    "    print(sub_string[index],end=\" \")"
   ]
  },
  {
   "cell_type": "markdown",
   "metadata": {},
   "source": [
    "# Task-5"
   ]
  },
  {
   "cell_type": "code",
   "execution_count": 8,
   "metadata": {},
   "outputs": [
    {
     "name": "stdout",
     "output_type": "stream",
     "text": [
      "enter first word: dean\n",
      "enter second word: tom\n",
      "\n",
      "Nothing in common.\n"
     ]
    }
   ],
   "source": [
    "str_one=input(\"enter first word: \")\n",
    "str_two=input(\"enter second word: \")\n",
    "frst=''\n",
    "secnd=''\n",
    "\n",
    "for temp in str_one:\n",
    "    if temp in str_two:\n",
    "        frst+=temp\n",
    "        \n",
    "for char in str_two:\n",
    "    if char in str_one:\n",
    "        secnd+=char\n",
    "        \n",
    "print (frst+secnd)\n",
    "\n",
    "if frst=='' or secnd=='':\n",
    "    print(\"Nothing in common.\")"
   ]
  },
  {
   "cell_type": "markdown",
   "metadata": {},
   "source": [
    "# Task-6"
   ]
  },
  {
   "cell_type": "code",
   "execution_count": 13,
   "metadata": {},
   "outputs": [
    {
     "name": "stdout",
     "output_type": "stream",
     "text": [
      "enter a new password: ohMyBR@CU\n",
      "Digit missing \n"
     ]
    }
   ],
   "source": [
    "usis_pass=input('enter a new password: ')\n",
    "upper_case=0\n",
    "lower_case=0\n",
    "digits=0\n",
    "special_char=0\n",
    "password =[]\n",
    "\n",
    "for char in range(len(usis_pass)):\n",
    "    if ord(usis_pass[char])>=65 and ord(usis_pass[char])<=90:\n",
    "        upper_case=upper_case+1\n",
    "    elif ord(usis_pass[char])>=97 and ord(usis_pass[char])<=122:\n",
    "        lower_case=lower_case+1\n",
    "    elif ord(usis_pass[char])>=48 and ord(usis_pass[char])<=57:\n",
    "        digits=digits+1\n",
    "    elif usis_pass[char]==\"_\" or usis_pass[char]==\"@\" or usis_pass[char]==\"#\" or usis_pass[char]==\"$\" :\n",
    "        special_char=special_char+1\n",
    "    \n",
    "if special_char!=0 and lower_case!=0 and digits!=0 and upper_case!=0:\n",
    "    print(\"OK\")\n",
    "if upper_case==0:\n",
    "    password.append(\"Uppercase character missing \")\n",
    "if lower_case==0:\n",
    "    password.append(\"Lowercase character missing \")    \n",
    "if digits==0:\n",
    "    password.append(\"Digit missing \")\n",
    "if special_char==0:\n",
    "    password.append(\"Special character missing\")\n",
    "    \n",
    "for char in range(len(password)):\n",
    "    if len(password )==1:\n",
    "        print(password[char])\n",
    "    elif len(password)>1:\n",
    "        print(password[char],end=\",\") "
   ]
  },
  {
   "cell_type": "markdown",
   "metadata": {},
   "source": [
    "# List Task-1"
   ]
  },
  {
   "cell_type": "code",
   "execution_count": 14,
   "metadata": {},
   "outputs": [
    {
     "name": "stdout",
     "output_type": "stream",
     "text": [
      "please enter a number: 10\n",
      "please enter a number: 20\n",
      "please enter a number: 20\n",
      "please enter a number: 30\n",
      "please enter a number: 10\n",
      "please enter a number: 50\n",
      "please enter a number: 90\n",
      "please enter a number: STOP\n",
      "10 - 2 times\n",
      "20 - 2 times\n",
      "30 - 1 times\n",
      "50 - 1 times\n",
      "90 - 1 times\n"
     ]
    }
   ],
   "source": [
    "list_one = []\n",
    "while True:\n",
    "    number = input(\"please enter a number: \")\n",
    "    if number == \"STOP\":\n",
    "        break\n",
    "    else:\n",
    "        number = int(number)\n",
    "        list_one.append(number)\n",
    "list_two = []\n",
    "for index in list_one:\n",
    "    if index not in list_two:\n",
    "        list_two.append(index)\n",
    "for index in list_two:\n",
    "    temp = 0\n",
    "    for char in list_one:\n",
    "\n",
    "        if index == char:\n",
    "            temp += 1\n",
    "    print(index, \"-\", temp, \"times\")"
   ]
  },
  {
   "cell_type": "markdown",
   "metadata": {},
   "source": [
    "# Task-2"
   ]
  },
  {
   "cell_type": "code",
   "execution_count": 15,
   "metadata": {},
   "outputs": [
    {
     "name": "stdout",
     "output_type": "stream",
     "text": [
      "4\n",
      "1 2 3\n",
      "4 5 6\n",
      "10 11 12\n",
      "7 8 9\n",
      "33\n",
      "[10, 11, 12]\n"
     ]
    }
   ],
   "source": [
    "highest_sum=0\n",
    "\n",
    "for index in range(int(input())):\n",
    "    N_list =[int(index) for index in input().split()]\n",
    "    sum_total=0\n",
    "    \n",
    "    for temp in range(len(N_list)):\n",
    "        sum_total=sum_total+N_list[temp]\n",
    "        \n",
    "    if sum_total>highest_sum:\n",
    "        highest_sum=sum_total\n",
    "        n_lists=N_list\n",
    "        \n",
    "print(highest_sum)\n",
    "print(n_lists)"
   ]
  },
  {
   "cell_type": "markdown",
   "metadata": {},
   "source": [
    "# Task-3"
   ]
  },
  {
   "cell_type": "code",
   "execution_count": 16,
   "metadata": {},
   "outputs": [
    {
     "name": "stdout",
     "output_type": "stream",
     "text": [
      "2 3 6\n",
      "3 4 5\n",
      "[6, 8, 10, 9, 12, 15, 18, 24, 30]\n"
     ]
    }
   ],
   "source": [
    "list_one= input().split()\n",
    "list_two=input().split()\n",
    "updated_list=[]\n",
    "\n",
    "for char in range(len(list_one)):\n",
    "    for key in range(len(list_two)):\n",
    "        temp=int(list_one[char])*int(list_two[key])\n",
    "        if temp not in updated_list:\n",
    "            updated_list.append(temp)\n",
    "            \n",
    "print(updated_list)"
   ]
  },
  {
   "cell_type": "markdown",
   "metadata": {},
   "source": [
    "# Task-4"
   ]
  },
  {
   "cell_type": "code",
   "execution_count": 18,
   "metadata": {},
   "outputs": [
    {
     "name": "stdout",
     "output_type": "stream",
     "text": [
      "enter numbers: 1 4 2 3 \n",
      "enter numbers: 2 1 4 6 10\n",
      "enter numbers: 1 4 2 -1 6\n",
      "enter numbers: STOP\n",
      "UB Jumper\n",
      "UB Jumper\n",
      "Not UB Jumper\n"
     ]
    }
   ],
   "source": [
    "counter=0\n",
    "list=[]\n",
    "\n",
    "while(counter!=\"STOP\"):\n",
    "    counter=input(\"enter numbers: \")\n",
    "    list.append(counter.split())\n",
    "    \n",
    "list=list[:len(list)-1]\n",
    "for index in range (len(list)):\n",
    "    for char in range (1,len(list[index])):\n",
    "        if(abs(int(list[index][char])-int(list[index][char-1]))>len(list[index])-1):\n",
    "            list[index ]= False\n",
    "            break\n",
    "            \n",
    "    if (list[index]!=False):\n",
    "        list[index ]=True\n",
    "        \n",
    "for index in range(len(list)):\n",
    "    if (list[index]):\n",
    "        print(\"UB Jumper\")\n",
    "    else:\n",
    "        print(\"Not UB Jumper\")"
   ]
  },
  {
   "cell_type": "markdown",
   "metadata": {},
   "source": [
    "# Task-5"
   ]
  },
  {
   "cell_type": "code",
   "execution_count": 19,
   "metadata": {},
   "outputs": [
    {
     "name": "stdout",
     "output_type": "stream",
     "text": [
      "please enter a string  :Bracu1234\n",
      "acruB1324"
     ]
    }
   ],
   "source": [
    "st=input(\"please enter a string  :\")\n",
    "lst =[]\n",
    "        \n",
    "for index in st:\n",
    "    lst.append(index )\n",
    "lst.sort()\n",
    "\n",
    "for ch in range(len(lst)): \n",
    "    if lst[ch].islower() :\n",
    "        print(lst[ch],end=\"\")\n",
    "        \n",
    "for ch in range(len(lst)): \n",
    "    if lst[ch].isupper(): \n",
    "        print(lst[ch],end=\"\")\n",
    "        \n",
    "for ch in range(len(lst)): \n",
    "    if lst[ch].isdigit():\n",
    "        number=int(lst[ch])\n",
    "        if number%2==1:\n",
    "            print(lst[ch],end=\"\")\n",
    "            \n",
    "for ch in range(len(lst)): \n",
    "    if lst[ch].isdigit():\n",
    "        number=int(lst[ch])\n",
    "        if number%2==0:\n",
    "            print(lst[ch],end=\"\")"
   ]
  },
  {
   "cell_type": "markdown",
   "metadata": {},
   "source": [
    "# Task-6"
   ]
  },
  {
   "cell_type": "code",
   "execution_count": 16,
   "metadata": {},
   "outputs": [
    {
     "name": "stdout",
     "output_type": "stream",
     "text": [
      "6 4\n",
      "0 1 2 3 4 5\n",
      "0\n"
     ]
    }
   ],
   "source": [
    "list_one = [int(index) for index in input().split()]\n",
    "list_two = [int(index) for index in input().split()]\n",
    "total = list_one[0]\n",
    "char = 0\n",
    "\n",
    "temp_one = list_one[0]\n",
    "temp_two = list_one[1]\n",
    "\n",
    "for key in list_two:\n",
    "    if 5 - key >=temp_two:\n",
    "        char+=1\n",
    "num = char//3\n",
    "\n",
    "print(num)"
   ]
  },
  {
   "cell_type": "markdown",
   "metadata": {},
   "source": [
    "# Dictionary & Tuple Task-1"
   ]
  },
  {
   "cell_type": "code",
   "execution_count": 21,
   "metadata": {},
   "outputs": [
    {
     "name": "stdout",
     "output_type": "stream",
     "text": [
      "{'a': 400, 'b': 300, 'c': 200, 'd': 700, 'e': 200}\n",
      "Values: (200, 300, 400, 700)\n"
     ]
    }
   ],
   "source": [
    "d_one= {'a': 100, 'b': 100, 'c': 200, 'd': 300 }\n",
    "d_two= {'a': 300, 'b': 200, 'd': 400, 'e': 200}\n",
    "\n",
    "updated_dict = dict(d_one)\n",
    "updated_dict.update(d_two)\n",
    "\n",
    "for k,val in d_one.items():\n",
    "    for k_one,val_one in d_two.items():\n",
    "        if k == k_one :\n",
    "            updated_dict[k]=(val +val_one)\n",
    "print(updated_dict)\n",
    "\n",
    "d= {}\n",
    "for index , char in updated_dict.items():\n",
    "    if char not in d.values():\n",
    "        d[index] = char \n",
    "        \n",
    "print(\"Values:\",tuple(sorted(d.values())))"
   ]
  },
  {
   "cell_type": "markdown",
   "metadata": {},
   "source": [
    "# Task-2"
   ]
  },
  {
   "cell_type": "code",
   "execution_count": 22,
   "metadata": {},
   "outputs": [
    {
     "name": "stdout",
     "output_type": "stream",
     "text": [
      "10\n",
      "20\n",
      "20\n",
      "30\n",
      "10\n",
      "50\n",
      "90\n",
      "STOP\n",
      "10-2times\n",
      "20-2times\n",
      "30-1times\n",
      "50-1times\n",
      "90-1times\n"
     ]
    }
   ],
   "source": [
    "dict_one={}\n",
    "counter= 1\n",
    "\n",
    "while counter > 0:\n",
    "    number = input()\n",
    "    if number == \"STOP\":\n",
    "        break\n",
    "    else:\n",
    "        if number in dict_one:\n",
    "            dict_one[number]+=1\n",
    "        else:\n",
    "            dict_one[number]=1\n",
    "        counter+=1\n",
    "        \n",
    "for counter in dict_one.keys():\n",
    "    print(counter+\"-\"+str(dict_one[counter])+\"times\")"
   ]
  },
  {
   "cell_type": "markdown",
   "metadata": {},
   "source": [
    "# Task-3"
   ]
  },
  {
   "cell_type": "code",
   "execution_count": 15,
   "metadata": {},
   "outputs": [
    {
     "name": "stdout",
     "output_type": "stream",
     "text": [
      "{'value1': ['key1', 'key3'], 'value2': ['key2']}\n"
     ]
    }
   ],
   "source": [
    "user_input={\"key1\":\"value1\",\"key2\":\"value2\",\"key3\":\"value1\"}\n",
    "user_list=[]\n",
    "for key ,val in user_input.items():\n",
    "    if val not in user_list:\n",
    "        user_list.append(val)\n",
    "dict={}\n",
    "for value in user_list:\n",
    "    list1=[]\n",
    "    for  key,val in user_input.items():\n",
    "        if value==val:\n",
    "            list1.append(key)\n",
    "            dict[value]=list1\n",
    "print(dict)"
   ]
  },
  {
   "cell_type": "code",
   "execution_count": 24,
   "metadata": {},
   "outputs": [
    {
     "name": "stdout",
     "output_type": "stream",
     "text": [
      "enter a word: evil\n",
      "enter another word: live\n",
      "Those strings are anagrams.\n"
     ]
    }
   ],
   "source": [
    "word_one=input('enter a word: ') \n",
    "word_two=input('enter another word: ')\n",
    "dict_one={}\n",
    "dict_two={}\n",
    "\n",
    "for index in word_one:\n",
    "    if index not in dict_one.keys():\n",
    "        dict_one[index]=1\n",
    "    else:\n",
    "        dict_one[index]+=1\n",
    "        \n",
    "for index in word_two:\n",
    "    if index not in dict_two.keys():\n",
    "        dict_two[index]=1\n",
    "    else:\n",
    "        dict_two[index]+=1\n",
    "        \n",
    "temp=True\n",
    "for key in dict_one.keys():\n",
    "    if key not in dict_two.keys() or dict_one[key]!= dict_two[key]:\n",
    "        print('Those strings are not anagrams.')\n",
    "        temp= False\n",
    "        break\n",
    "if temp == True:\n",
    "    print('Those strings are anagrams.')"
   ]
  },
  {
   "cell_type": "markdown",
   "metadata": {},
   "source": [
    "# Task-5"
   ]
  },
  {
   "cell_type": "code",
   "execution_count": 11,
   "metadata": {},
   "outputs": [
    {
     "name": "stdout",
     "output_type": "stream",
     "text": [
      "enter a message: Hello, World!\n",
      "4433555555666110966677755531111\n"
     ]
    }
   ],
   "source": [
    "message =input(\"enter a message: \")\n",
    "text=\"\"\n",
    "\n",
    "for index in range(len(message)):\n",
    "    if ord(message[index])>=97 and ord(message[index])<=122:\n",
    "        text = text + chr(ord(message[index]) - 32)\n",
    "    else:\n",
    "        text = text + message[index]\n",
    "        \n",
    "temp=\"\"\n",
    "total={1:[\".\",\",\",\"?\",\"!\",':'],2:[\"A\",\"B\",\"C\"],3:[\"D\",\"E\",\"F\"],4:[\"G\",\"H\",'I'],5:[\"J\",\"K\",\"L\"],6:[\"M\",\"N\",\"O\"],7:[\"P\",\"Q\",\"R\",\"S\"],8:[\"T\",\"U\",\"V\"],9:[\"W\",\"X\",\"Y\",\"Z\"],0:[\" \"]}\n",
    "\n",
    "for index in range(len(text)):\n",
    "    for char ,key in total.items():\n",
    "        if text[index] in key:\n",
    "            for count in range(len(key)):\n",
    "                if text[index] ==key[count]:\n",
    "                    x=len(key[:count+1])\n",
    "                    for y in range(x):\n",
    "                        temp=temp+str(char)\n",
    "\n",
    "print(temp)"
   ]
  }
 ],
 "metadata": {
  "kernelspec": {
   "display_name": "Python 3",
   "language": "python",
   "name": "python3"
  },
  "language_info": {
   "codemirror_mode": {
    "name": "ipython",
    "version": 3
   },
   "file_extension": ".py",
   "mimetype": "text/x-python",
   "name": "python",
   "nbconvert_exporter": "python",
   "pygments_lexer": "ipython3",
   "version": "3.8.3"
  }
 },
 "nbformat": 4,
 "nbformat_minor": 4
}
