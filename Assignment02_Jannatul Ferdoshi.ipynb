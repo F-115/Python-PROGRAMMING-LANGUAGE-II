{
 "cells": [
  {
   "cell_type": "markdown",
   "metadata": {},
   "source": [
    "# Task 1"
   ]
  },
  {
   "cell_type": "code",
   "execution_count": 1,
   "metadata": {},
   "outputs": [
    {
     "name": "stdout",
     "output_type": "stream",
     "text": [
      "enter a number:5\n",
      "enter another number:0\n",
      "0\n"
     ]
    }
   ],
   "source": [
    "def fraction(num,nom):\n",
    "    try:\n",
    "        result = ((num%nom)/nom)\n",
    "        print(result)\n",
    "    except ZeroDivisionError:\n",
    "        print(0)\n",
    "\n",
    "    \n",
    "x=int(input(\"enter a number:\"))\n",
    "y=int(input(\"enter another number:\"))\n",
    "\n",
    "fraction(x,y)"
   ]
  },
  {
   "cell_type": "markdown",
   "metadata": {},
   "source": [
    "# Task 2"
   ]
  },
  {
   "cell_type": "code",
   "execution_count": 2,
   "metadata": {},
   "outputs": [
    {
     "name": "stdout",
     "output_type": "stream",
     "text": [
      "152\n",
      "48\n",
      "Score is 20.775623268698062 .You are Normal\n"
     ]
    }
   ],
   "source": [
    "def bmiCal(height,weight):\n",
    "    k=height/100\n",
    "    bmi=weight/(k*k)\n",
    "    return bmi\n",
    "height=int(input())\n",
    "weight=int(input())\n",
    "k=bmiCal(height,weight)\n",
    "print(\"Score is\",k,\".You are \",end=\"\")\n",
    "if(k<18.5):\n",
    "    print(\"Unerweight\")\n",
    "elif(k>=18.6 and k<=24.9):\n",
    "    print(\"Normal\")\n",
    "elif(k>=25 and k<=30):\n",
    "    print(\"Overweight\")\n",
    "else:\n",
    "    print(\"Obese\")"
   ]
  },
  {
   "cell_type": "markdown",
   "metadata": {},
   "source": [
    "# Task 3"
   ]
  },
  {
   "cell_type": "code",
   "execution_count": 3,
   "metadata": {},
   "outputs": [
    {
     "name": "stdout",
     "output_type": "stream",
     "text": [
      "0\n",
      "10\n",
      "2\n"
     ]
    },
    {
     "data": {
      "text/plain": [
       "20"
      ]
     },
     "execution_count": 3,
     "metadata": {},
     "output_type": "execute_result"
    }
   ],
   "source": [
    "def function(min_val,max_val,div_val):\n",
    "    index=0\n",
    "    \n",
    "    for key in range(min_val,max_val):\n",
    "        if key % div_val ==0:\n",
    "            index= index+key\n",
    "    return index\n",
    "\n",
    "minimum=int(input())\n",
    "maximum=int(input())\n",
    "divisor=int(input())\n",
    "\n",
    "function(minimum,maximum,divisor)"
   ]
  },
  {
   "cell_type": "markdown",
   "metadata": {},
   "source": [
    "# Task 4"
   ]
  },
  {
   "cell_type": "code",
   "execution_count": 4,
   "metadata": {},
   "outputs": [
    {
     "name": "stdout",
     "output_type": "stream",
     "text": [
      "223.6\n"
     ]
    }
   ],
   "source": [
    "def order(Burger_Name, Address='Mohakhali'):\n",
    "    total=0\n",
    "    if Burger_Name =='BBQ Chicken Cheese Burger':\n",
    "        total = 250\n",
    "    elif Burger_Name== \"Beef Burger\":\n",
    "        total= 170\n",
    "    elif Burger_Name=='Naga Drums':\n",
    "        total=200\n",
    "        \n",
    "    if Address =='Mohakhali':\n",
    "        Total_price=total +40+((total*8)/100)\n",
    "    else:\n",
    "        Total_price=total +60+((total*8)/100)\n",
    "    return Total_price\n",
    "print(order('Beef Burger'))"
   ]
  },
  {
   "cell_type": "markdown",
   "metadata": {},
   "source": [
    "# Task 5"
   ]
  },
  {
   "cell_type": "code",
   "execution_count": 6,
   "metadata": {},
   "outputs": [
    {
     "name": "stdout",
     "output_type": "stream",
     "text": [
      "Changed:alice@sheba.xyz\n"
     ]
    }
   ],
   "source": [
    "def replace_domain (x,y,z=\"kaz.com\"):\n",
    "    if x.endswith('sheba.xyz'):\n",
    "        return 'Unchanged:{}'.format(x)\n",
    "    else:\n",
    "        new_mail=x[:-8]+'sheba.xyz'\n",
    "        return 'Changed:{}'.format(new_mail)\n",
    "    \n",
    "output=replace_domain('alice@kaaj.com', 'sheba.xyz', 'kaaj.com')\n",
    "print(output)"
   ]
  },
  {
   "cell_type": "markdown",
   "metadata": {},
   "source": [
    "# Task 6"
   ]
  },
  {
   "cell_type": "code",
   "execution_count": 4,
   "metadata": {},
   "outputs": [
    {
     "name": "stdout",
     "output_type": "stream",
     "text": [
      "XYZ\n",
      "No vowels in the name\n"
     ]
    }
   ],
   "source": [
    "def vowels(name):\n",
    "    vowel= ''\n",
    "    vowel_count=0\n",
    "    for key in name:\n",
    "        if key in 'aeiou':\n",
    "            vowel_count+=1\n",
    "            vowel += key+ \",\"\n",
    "    if vowel_count ==0:\n",
    "        print(\"No vowels in the name\")\n",
    "    else:\n",
    "        print('Vowels:', vowel[: -1]+ '.','Total number of vowels:',vowel_count)\n",
    "        \n",
    "names=input()\n",
    "vowels(names)"
   ]
  },
  {
   "cell_type": "markdown",
   "metadata": {},
   "source": [
    "# Task 7"
   ]
  },
  {
   "cell_type": "code",
   "execution_count": 5,
   "metadata": {},
   "outputs": [
    {
     "name": "stdout",
     "output_type": "stream",
     "text": [
      "enter a string: hello\n",
      "Not a palindrome\n"
     ]
    }
   ],
   "source": [
    "def Palindrome(strng):\n",
    "    var1 = ''\n",
    "    var2 = ''\n",
    "    for i in strng:\n",
    "        if i == ' ':\n",
    "            var1 = var1+i\n",
    "        else:\n",
    "            var2 = var2+i\n",
    "    \n",
    "    new_strng = ''\n",
    "    new_strng = var2[-1::-1]\n",
    "    \n",
    "    if new_strng == var2:\n",
    "        print(\"palindrome\")\n",
    "    else:\n",
    "        print('Not a palindrome')\n",
    "        \n",
    "s = input(\"enter a string: \")        \n",
    "Palindrome(s)"
   ]
  },
  {
   "cell_type": "markdown",
   "metadata": {},
   "source": [
    "# Task 8"
   ]
  },
  {
   "cell_type": "code",
   "execution_count": 2,
   "metadata": {},
   "outputs": [
    {
     "name": "stdout",
     "output_type": "stream",
     "text": [
      "4000\n",
      "10 years, 11 months and 20 days\n"
     ]
    }
   ],
   "source": [
    "def function(num):\n",
    "    year=num//365\n",
    "    num=num%365\n",
    "    month=num//30\n",
    "    day=num%30\n",
    "    print(year,\"years,\",month,\"months and\",day,\"days\")\n",
    "num=int(input())\n",
    "function(num)"
   ]
  },
  {
   "cell_type": "markdown",
   "metadata": {},
   "source": [
    "# Task 9"
   ]
  },
  {
   "cell_type": "code",
   "execution_count": null,
   "metadata": {},
   "outputs": [],
   "source": [
    "def capitalization(string):\n",
    "    size = len(string)\n",
    "    new_string = \"\"\n",
    "    for i in range(size):\n",
    "        if i == 0:\n",
    "            if ord(\"a\") <= ord(string[i]) <= ord(\"z\"):\n",
    "                temp = ord(string[i]) - 32\n",
    "                new_string += chr(temp)\n",
    "            else:\n",
    "                new_string += string[i]\n",
    "\n",
    "        elif i > 2 and (string[i - 2] == \"?\" or string[i - 2] == \".\" or string[i - 2] == \"!\"):\n",
    "            if ord(\"a\") <= ord(string[i]) <= ord(\"z\"):\n",
    "                temp = ord(string[i]) - 32\n",
    "                new_string += chr(temp)\n",
    "            else:\n",
    "                new_string += string[i]\n",
    "\n",
    "        elif string[i] == \"i\":\n",
    "            if string[i - 1] == \" \" and (\n",
    "                    string[i + 1] == \" \" or string[i + 1] == \".\" or string[i + 1] == \"?\" or string[i + 1] == \"!\"):\n",
    "                temp = ord(string[i]) - 32\n",
    "                new_string += chr(temp)\n",
    "            else:\n",
    "                new_string += string[i]\n",
    "\n",
    "        else:\n",
    "            if ord(\"A\") <= ord(string[i]) <= ord(\"Z\"):\n",
    "                temp = ord(string[i]) + 32\n",
    "                new_string += chr(temp)\n",
    "            else:\n",
    "                new_string += string[i]\n",
    "\n",
    "    return new_string\n",
    "\n",
    "\n",
    "string = input(\"Enter a string(use space after every puntuation): \")\n",
    "\n",
    "print(capitalization(string))"
   ]
  }
 ],
 "metadata": {
  "kernelspec": {
   "display_name": "Python 3",
   "language": "python",
   "name": "python3"
  },
  "language_info": {
   "codemirror_mode": {
    "name": "ipython",
    "version": 3
   },
   "file_extension": ".py",
   "mimetype": "text/x-python",
   "name": "python",
   "nbconvert_exporter": "python",
   "pygments_lexer": "ipython3",
   "version": "3.8.3"
  }
 },
 "nbformat": 4,
 "nbformat_minor": 4
}
